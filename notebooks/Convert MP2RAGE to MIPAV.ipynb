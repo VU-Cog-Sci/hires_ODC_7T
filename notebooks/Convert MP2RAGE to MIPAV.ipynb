{
 "cells": [
  {
   "cell_type": "code",
   "execution_count": 30,
   "metadata": {
    "collapsed": true
   },
   "outputs": [],
   "source": [
    "import nibabel as nb\n",
    "from nilearn.image import math_img, concat_imgs"
   ]
  },
  {
   "cell_type": "code",
   "execution_count": 5,
   "metadata": {
    "collapsed": true
   },
   "outputs": [],
   "source": [
    "inv1 = nb.load('/data/sourcedata/sub-012/anat/sub-012_acq-highres_INV1.nii.gz')\n",
    "inv1ph = nb.load('/data/sourcedata/sub-012/anat/sub-012_acq-highres_INV1ph.nii.gz')\n",
    "\n",
    "inv2 = nb.load('/data/sourcedata/sub-012/anat/sub-012_acq-highres_INV2.nii.gz')\n",
    "inv2ph = nb.load('/data/sourcedata/sub-012/anat/sub-012_acq-highres_INV2ph.nii.gz')"
   ]
  },
  {
   "cell_type": "code",
   "execution_count": 28,
   "metadata": {
    "collapsed": true
   },
   "outputs": [],
   "source": [
    "inv1ph_norm = math_img('(x - np.min(x)) / np.max(x) * 2 * np.pi - np.pi', x=inv1ph)\n",
    "inv2ph_norm = math_img('(x - np.min(x)) / np.max(x) * 2 * np.pi - np.pi', x=inv2ph)"
   ]
  },
  {
   "cell_type": "code",
   "execution_count": 32,
   "metadata": {
    "collapsed": true
   },
   "outputs": [],
   "source": [
    "inv1_combined = concat_imgs([inv1, inv1ph_norm])\n",
    "inv2_combined = concat_imgs([inv2, inv2ph_norm])\n",
    "\n",
    "inv1_combined.to_filename('/data/sourcedata/sub-012/anat/sub-012_acq-highres_INV1_combined.nii.gz')\n",
    "inv2_combined.to_filename('/data/sourcedata/sub-012/anat/sub-012_acq-highres_INV2_combined.nii.gz')"
   ]
  }
 ],
 "metadata": {
  "kernelspec": {
   "display_name": "Python 3",
   "language": "python",
   "name": "python3"
  },
  "language_info": {
   "codemirror_mode": {
    "name": "ipython",
    "version": 3
   },
   "file_extension": ".py",
   "mimetype": "text/x-python",
   "name": "python",
   "nbconvert_exporter": "python",
   "pygments_lexer": "ipython3",
   "version": "3.6.0"
  }
 },
 "nbformat": 4,
 "nbformat_minor": 2
}
